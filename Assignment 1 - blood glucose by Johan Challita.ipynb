{
 "cells": [
  {
   "cell_type": "markdown",
   "id": "returning-bunny",
   "metadata": {},
   "source": [
    "# Blood Glucose assigment\n",
    "## By Johan Challita, Tidaa"
   ]
  },
  {
   "cell_type": "code",
   "execution_count": 1,
   "id": "cellular-malawi",
   "metadata": {},
   "outputs": [],
   "source": [
    "import pandas as pd\n",
    "from sklearn.tree import DecisionTreeRegressor\n",
    "from sklearn.model_selection import train_test_split\n",
    "from sklearn.datasets import make_regression\n",
    "from sklearn.linear_model import LinearRegression\n",
    "import matplotlib.pyplot as plt\n",
    "import numpy as np\n",
    "from sklearn.metrics import accuracy_score, mean_squared_error, mean_absolute_error, r2_score\n",
    "from math import sqrt"
   ]
  },
  {
   "cell_type": "code",
   "execution_count": 2,
   "id": "brave-electron",
   "metadata": {},
   "outputs": [
    {
     "data": {
      "text/html": [
       "<div>\n",
       "<style scoped>\n",
       "    .dataframe tbody tr th:only-of-type {\n",
       "        vertical-align: middle;\n",
       "    }\n",
       "\n",
       "    .dataframe tbody tr th {\n",
       "        vertical-align: top;\n",
       "    }\n",
       "\n",
       "    .dataframe thead th {\n",
       "        text-align: right;\n",
       "    }\n",
       "</style>\n",
       "<table border=\"1\" class=\"dataframe\">\n",
       "  <thead>\n",
       "    <tr style=\"text-align: right;\">\n",
       "      <th></th>\n",
       "      <th>Date</th>\n",
       "      <th>Time</th>\n",
       "      <th>Code</th>\n",
       "      <th>Value</th>\n",
       "    </tr>\n",
       "  </thead>\n",
       "  <tbody>\n",
       "    <tr>\n",
       "      <th>0</th>\n",
       "      <td>04-21-1991</td>\n",
       "      <td>9:09</td>\n",
       "      <td>58</td>\n",
       "      <td>100</td>\n",
       "    </tr>\n",
       "    <tr>\n",
       "      <th>1</th>\n",
       "      <td>04-21-1991</td>\n",
       "      <td>9:09</td>\n",
       "      <td>33</td>\n",
       "      <td>9</td>\n",
       "    </tr>\n",
       "    <tr>\n",
       "      <th>2</th>\n",
       "      <td>04-21-1991</td>\n",
       "      <td>9:09</td>\n",
       "      <td>34</td>\n",
       "      <td>13</td>\n",
       "    </tr>\n",
       "    <tr>\n",
       "      <th>3</th>\n",
       "      <td>04-21-1991</td>\n",
       "      <td>17:08</td>\n",
       "      <td>62</td>\n",
       "      <td>119</td>\n",
       "    </tr>\n",
       "    <tr>\n",
       "      <th>4</th>\n",
       "      <td>04-21-1991</td>\n",
       "      <td>17:08</td>\n",
       "      <td>33</td>\n",
       "      <td>7</td>\n",
       "    </tr>\n",
       "    <tr>\n",
       "      <th>...</th>\n",
       "      <td>...</td>\n",
       "      <td>...</td>\n",
       "      <td>...</td>\n",
       "      <td>...</td>\n",
       "    </tr>\n",
       "    <tr>\n",
       "      <th>336</th>\n",
       "      <td>05-09-1989</td>\n",
       "      <td>08:00</td>\n",
       "      <td>33</td>\n",
       "      <td>1.0</td>\n",
       "    </tr>\n",
       "    <tr>\n",
       "      <th>337</th>\n",
       "      <td>05-09-1989</td>\n",
       "      <td>08:00</td>\n",
       "      <td>34</td>\n",
       "      <td>7.0</td>\n",
       "    </tr>\n",
       "    <tr>\n",
       "      <th>338</th>\n",
       "      <td>05-10-1989</td>\n",
       "      <td>08:00</td>\n",
       "      <td>34</td>\n",
       "      <td>7.0</td>\n",
       "    </tr>\n",
       "    <tr>\n",
       "      <th>339</th>\n",
       "      <td>05-11-1989</td>\n",
       "      <td>08:00</td>\n",
       "      <td>34</td>\n",
       "      <td>7.0</td>\n",
       "    </tr>\n",
       "    <tr>\n",
       "      <th>340</th>\n",
       "      <td>05-12-1989</td>\n",
       "      <td>08:00</td>\n",
       "      <td>34</td>\n",
       "      <td>7.0</td>\n",
       "    </tr>\n",
       "  </tbody>\n",
       "</table>\n",
       "<p>29285 rows × 4 columns</p>\n",
       "</div>"
      ],
      "text/plain": [
       "           Date   Time  Code Value\n",
       "0    04-21-1991   9:09    58   100\n",
       "1    04-21-1991   9:09    33     9\n",
       "2    04-21-1991   9:09    34    13\n",
       "3    04-21-1991  17:08    62   119\n",
       "4    04-21-1991  17:08    33     7\n",
       "..          ...    ...   ...   ...\n",
       "336  05-09-1989  08:00    33   1.0\n",
       "337  05-09-1989  08:00    34   7.0\n",
       "338  05-10-1989  08:00    34   7.0\n",
       "339  05-11-1989  08:00    34   7.0\n",
       "340  05-12-1989  08:00    34   7.0\n",
       "\n",
       "[29285 rows x 4 columns]"
      ]
     },
     "execution_count": 2,
     "metadata": {},
     "output_type": "execute_result"
    }
   ],
   "source": [
    "#Initialize Data to a DataFrame\n",
    "data = pd.DataFrame([])\n",
    "for i in range(70):\n",
    "    if(i < 9):\n",
    "        file_nr = f\"0{i+1}\"\n",
    "    else:\n",
    "        file_nr = i+1\n",
    "        \n",
    "    diabetes_file_path = f'/Users/user/Dropbox/MachineLearning/lab/Diabetes-data/data-{file_nr}'\n",
    "    diabetes_data = pd.read_csv(diabetes_file_path, sep='\\t', names=['Date','Time','Code','Value'])\n",
    "    data = data.append(pd.DataFrame(data=diabetes_data).drop_duplicates())\n",
    "    \n",
    "df = pd.DataFrame(data)\n",
    "df"
   ]
  },
  {
   "cell_type": "markdown",
   "id": "wooden-carol",
   "metadata": {},
   "source": [
    "# Check if there are existing code that shouldn't exist"
   ]
  },
  {
   "cell_type": "code",
   "execution_count": 3,
   "id": "lasting-culture",
   "metadata": {},
   "outputs": [],
   "source": [
    "# Fix the date so it shows yyyy-mm-dd and has DateTime as dtypes\n",
    "df['Date'] = pd.to_datetime(df['Date'], errors='coerce')"
   ]
  },
  {
   "cell_type": "code",
   "execution_count": 4,
   "id": "documentary-lawrence",
   "metadata": {},
   "outputs": [],
   "source": [
    "# Clean off 0Hi values from Value column\n",
    "df = df[df.Value!='0Hi']"
   ]
  },
  {
   "cell_type": "code",
   "execution_count": 5,
   "id": "structural-nightmare",
   "metadata": {},
   "outputs": [],
   "source": [
    "# Clean off 0Lo values from Value column\n",
    "df = df[df.Value!='0Lo']"
   ]
  },
  {
   "cell_type": "code",
   "execution_count": 6,
   "id": "classical-conversion",
   "metadata": {},
   "outputs": [],
   "source": [
    "# Drop all nan values\n",
    "df = df.dropna()"
   ]
  },
  {
   "cell_type": "code",
   "execution_count": 7,
   "id": "brown-situation",
   "metadata": {},
   "outputs": [],
   "source": [
    "# Clean off 3A and 0'' values from Value column\n",
    "df = df[df.Value!='3A']\n",
    "df = df[df.Value!=\"0''\"]"
   ]
  },
  {
   "cell_type": "code",
   "execution_count": 8,
   "id": "moving-aggregate",
   "metadata": {},
   "outputs": [],
   "source": [
    "df['Value'] = df['Value'].astype(int)"
   ]
  },
  {
   "cell_type": "code",
   "execution_count": 9,
   "id": "automotive-monte",
   "metadata": {},
   "outputs": [
    {
     "data": {
      "text/plain": [
       "Date     datetime64[ns]\n",
       "Time             object\n",
       "Code              int64\n",
       "Value             int64\n",
       "dtype: object"
      ]
     },
     "execution_count": 9,
     "metadata": {},
     "output_type": "execute_result"
    }
   ],
   "source": [
    "df.dtypes"
   ]
  },
  {
   "cell_type": "code",
   "execution_count": 10,
   "id": "thermal-penetration",
   "metadata": {},
   "outputs": [],
   "source": [
    "# Clean off non-time \n",
    "df = df[df.Time != \"9\"]\n",
    "df = df[df.Time != \"006\"]\n",
    "df = df[df.Time != \"016\"]\n",
    "df = df[df.Time != \"004\"]\n",
    "df = df[df.Time != \"018\"]\n",
    "df = df[df.Time != \"018\"]\n",
    "df = df[df.Time != \"020\"]\n",
    "df = df[df.Time != \"56:35\"]\n",
    "df = df[df.Time != \"188:00\"]"
   ]
  },
  {
   "cell_type": "code",
   "execution_count": 11,
   "id": "addressed-framing",
   "metadata": {},
   "outputs": [],
   "source": [
    "# Change time to hours in order to calculate it in the model\n",
    "df['Time'] = pd.to_datetime(df['Time'], format='%H:%M').dt.hour"
   ]
  },
  {
   "cell_type": "code",
   "execution_count": 12,
   "id": "adapted-wisdom",
   "metadata": {},
   "outputs": [
    {
     "data": {
      "text/plain": [
       "0"
      ]
     },
     "execution_count": 12,
     "metadata": {},
     "output_type": "execute_result"
    }
   ],
   "source": [
    "# Check if there are nulls\n",
    "df.isnull().sum().sum()"
   ]
  },
  {
   "cell_type": "code",
   "execution_count": 13,
   "id": "accepting-rings",
   "metadata": {},
   "outputs": [
    {
     "data": {
      "text/plain": [
       "Date     datetime64[ns]\n",
       "Time              int64\n",
       "Code              int64\n",
       "Value             int64\n",
       "dtype: object"
      ]
     },
     "execution_count": 13,
     "metadata": {},
     "output_type": "execute_result"
    }
   ],
   "source": [
    "# Check what type all objects are\n",
    "df.dtypes"
   ]
  },
  {
   "cell_type": "code",
   "execution_count": 14,
   "id": "prescribed-lighting",
   "metadata": {
    "scrolled": true
   },
   "outputs": [
    {
     "data": {
      "text/html": [
       "<div>\n",
       "<style scoped>\n",
       "    .dataframe tbody tr th:only-of-type {\n",
       "        vertical-align: middle;\n",
       "    }\n",
       "\n",
       "    .dataframe tbody tr th {\n",
       "        vertical-align: top;\n",
       "    }\n",
       "\n",
       "    .dataframe thead th {\n",
       "        text-align: right;\n",
       "    }\n",
       "</style>\n",
       "<table border=\"1\" class=\"dataframe\">\n",
       "  <thead>\n",
       "    <tr style=\"text-align: right;\">\n",
       "      <th></th>\n",
       "      <th>Date</th>\n",
       "      <th>Time</th>\n",
       "      <th>Code</th>\n",
       "      <th>Value</th>\n",
       "    </tr>\n",
       "  </thead>\n",
       "  <tbody>\n",
       "    <tr>\n",
       "      <th>0</th>\n",
       "      <td>1991-04-21</td>\n",
       "      <td>9</td>\n",
       "      <td>58</td>\n",
       "      <td>100</td>\n",
       "    </tr>\n",
       "    <tr>\n",
       "      <th>1</th>\n",
       "      <td>1991-04-21</td>\n",
       "      <td>9</td>\n",
       "      <td>33</td>\n",
       "      <td>9</td>\n",
       "    </tr>\n",
       "    <tr>\n",
       "      <th>2</th>\n",
       "      <td>1991-04-21</td>\n",
       "      <td>9</td>\n",
       "      <td>34</td>\n",
       "      <td>13</td>\n",
       "    </tr>\n",
       "    <tr>\n",
       "      <th>3</th>\n",
       "      <td>1991-04-21</td>\n",
       "      <td>17</td>\n",
       "      <td>62</td>\n",
       "      <td>119</td>\n",
       "    </tr>\n",
       "    <tr>\n",
       "      <th>4</th>\n",
       "      <td>1991-04-21</td>\n",
       "      <td>17</td>\n",
       "      <td>33</td>\n",
       "      <td>7</td>\n",
       "    </tr>\n",
       "    <tr>\n",
       "      <th>...</th>\n",
       "      <td>...</td>\n",
       "      <td>...</td>\n",
       "      <td>...</td>\n",
       "      <td>...</td>\n",
       "    </tr>\n",
       "    <tr>\n",
       "      <th>336</th>\n",
       "      <td>1989-05-09</td>\n",
       "      <td>8</td>\n",
       "      <td>33</td>\n",
       "      <td>1</td>\n",
       "    </tr>\n",
       "    <tr>\n",
       "      <th>337</th>\n",
       "      <td>1989-05-09</td>\n",
       "      <td>8</td>\n",
       "      <td>34</td>\n",
       "      <td>7</td>\n",
       "    </tr>\n",
       "    <tr>\n",
       "      <th>338</th>\n",
       "      <td>1989-05-10</td>\n",
       "      <td>8</td>\n",
       "      <td>34</td>\n",
       "      <td>7</td>\n",
       "    </tr>\n",
       "    <tr>\n",
       "      <th>339</th>\n",
       "      <td>1989-05-11</td>\n",
       "      <td>8</td>\n",
       "      <td>34</td>\n",
       "      <td>7</td>\n",
       "    </tr>\n",
       "    <tr>\n",
       "      <th>340</th>\n",
       "      <td>1989-05-12</td>\n",
       "      <td>8</td>\n",
       "      <td>34</td>\n",
       "      <td>7</td>\n",
       "    </tr>\n",
       "  </tbody>\n",
       "</table>\n",
       "<p>29237 rows × 4 columns</p>\n",
       "</div>"
      ],
      "text/plain": [
       "          Date  Time  Code  Value\n",
       "0   1991-04-21     9    58    100\n",
       "1   1991-04-21     9    33      9\n",
       "2   1991-04-21     9    34     13\n",
       "3   1991-04-21    17    62    119\n",
       "4   1991-04-21    17    33      7\n",
       "..         ...   ...   ...    ...\n",
       "336 1989-05-09     8    33      1\n",
       "337 1989-05-09     8    34      7\n",
       "338 1989-05-10     8    34      7\n",
       "339 1989-05-11     8    34      7\n",
       "340 1989-05-12     8    34      7\n",
       "\n",
       "[29237 rows x 4 columns]"
      ]
     },
     "execution_count": 14,
     "metadata": {},
     "output_type": "execute_result"
    }
   ],
   "source": [
    "df"
   ]
  },
  {
   "cell_type": "code",
   "execution_count": 15,
   "id": "expired-wrist",
   "metadata": {},
   "outputs": [],
   "source": [
    "# Remove all data that are unreal or doesn't exist\n",
    "df = df[df.Value > 0] # High risk for hyperglycemia\n",
    "df = df[df.Code != 36]\n",
    "df = df[df.Code != 56]"
   ]
  },
  {
   "cell_type": "markdown",
   "id": "going-needle",
   "metadata": {},
   "source": [
    "# Now we will test our data with LinearRegression"
   ]
  },
  {
   "cell_type": "code",
   "execution_count": 16,
   "id": "moving-prisoner",
   "metadata": {},
   "outputs": [],
   "source": [
    "# Creating the LinearRegression model\n",
    "y = df['Value']\n",
    "feature_columns = ['Time', 'Code']\n",
    "X = df[feature_columns]\n",
    "\n",
    "train_X, test_X, train_Y, test_Y = train_test_split(X, y, test_size = 0.3)\n",
    "reg = LinearRegression()"
   ]
  },
  {
   "cell_type": "code",
   "execution_count": 17,
   "id": "fewer-bleeding",
   "metadata": {},
   "outputs": [
    {
     "data": {
      "text/plain": [
       "LinearRegression()"
      ]
     },
     "execution_count": 17,
     "metadata": {},
     "output_type": "execute_result"
    }
   ],
   "source": [
    "# Train the model\n",
    "reg.fit(train_X, train_Y)"
   ]
  },
  {
   "cell_type": "code",
   "execution_count": 18,
   "id": "flush-tiffany",
   "metadata": {},
   "outputs": [
    {
     "data": {
      "text/plain": [
       "0.5874674624716041"
      ]
     },
     "execution_count": 18,
     "metadata": {},
     "output_type": "execute_result"
    }
   ],
   "source": [
    "# Calculating the R^2 from LinearRegression. Good for measure how well the data fit the model\n",
    "reg.score(test_X, test_Y)"
   ]
  },
  {
   "cell_type": "code",
   "execution_count": 19,
   "id": "exact-twelve",
   "metadata": {},
   "outputs": [],
   "source": [
    "y_pred = reg.predict(test_X)"
   ]
  },
  {
   "cell_type": "code",
   "execution_count": 20,
   "id": "embedded-calcium",
   "metadata": {},
   "outputs": [
    {
     "name": "stdout",
     "output_type": "stream",
     "text": [
      "0.021778150053847076\n"
     ]
    }
   ],
   "source": [
    "# Accurancy score for the model. Good for measure how accurate the model is in classification. \n",
    "# PS DON'T USE IT FOR REGRESSION. I used it just for the learning\n",
    "test_y_int = test_Y.astype(int)\n",
    "y_pred_int = y_pred.astype(int)\n",
    "print(accuracy_score(test_y_int,y_pred_int))"
   ]
  },
  {
   "cell_type": "code",
   "execution_count": 21,
   "id": "about-czech",
   "metadata": {},
   "outputs": [
    {
     "name": "stdout",
     "output_type": "stream",
     "text": [
      "3661.2213032236386\n"
     ]
    }
   ],
   "source": [
    "# Calculating the MSE (Mean square error). Important to detect errors (the larger, the larger errors)\n",
    "mse = mean_squared_error(test_Y, y_pred)\n",
    "print(mse)"
   ]
  },
  {
   "cell_type": "code",
   "execution_count": 22,
   "id": "mysterious-amsterdam",
   "metadata": {},
   "outputs": [
    {
     "name": "stdout",
     "output_type": "stream",
     "text": [
      "37.70776406716732\n"
     ]
    }
   ],
   "source": [
    "# Calculating the MAE (Mean absolute error). Good for measure the average of all absolute errors (The larger, the larger error)\n",
    "mae = mean_absolute_error(test_Y, y_pred)\n",
    "print(mae)"
   ]
  },
  {
   "cell_type": "code",
   "execution_count": 23,
   "id": "corporate-quantum",
   "metadata": {},
   "outputs": [
    {
     "name": "stdout",
     "output_type": "stream",
     "text": [
      "60.50802676689795\n"
     ]
    }
   ],
   "source": [
    "# Calculating the RMSE (Root mean square error). Good for measure how well the data is around the line. \n",
    "rmse = sqrt(mse)\n",
    "print(rmse)"
   ]
  },
  {
   "cell_type": "code",
   "execution_count": 24,
   "id": "outside-twins",
   "metadata": {},
   "outputs": [
    {
     "data": {
      "text/html": [
       "<div>\n",
       "<style scoped>\n",
       "    .dataframe tbody tr th:only-of-type {\n",
       "        vertical-align: middle;\n",
       "    }\n",
       "\n",
       "    .dataframe tbody tr th {\n",
       "        vertical-align: top;\n",
       "    }\n",
       "\n",
       "    .dataframe thead th {\n",
       "        text-align: right;\n",
       "    }\n",
       "</style>\n",
       "<table border=\"1\" class=\"dataframe\">\n",
       "  <thead>\n",
       "    <tr style=\"text-align: right;\">\n",
       "      <th></th>\n",
       "      <th>Date</th>\n",
       "      <th>Time</th>\n",
       "      <th>Code</th>\n",
       "      <th>Value</th>\n",
       "    </tr>\n",
       "  </thead>\n",
       "  <tbody>\n",
       "    <tr>\n",
       "      <th>0</th>\n",
       "      <td>1991-04-21</td>\n",
       "      <td>9</td>\n",
       "      <td>58</td>\n",
       "      <td>100</td>\n",
       "    </tr>\n",
       "    <tr>\n",
       "      <th>1</th>\n",
       "      <td>1991-04-21</td>\n",
       "      <td>9</td>\n",
       "      <td>33</td>\n",
       "      <td>9</td>\n",
       "    </tr>\n",
       "    <tr>\n",
       "      <th>2</th>\n",
       "      <td>1991-04-21</td>\n",
       "      <td>9</td>\n",
       "      <td>34</td>\n",
       "      <td>13</td>\n",
       "    </tr>\n",
       "    <tr>\n",
       "      <th>3</th>\n",
       "      <td>1991-04-21</td>\n",
       "      <td>17</td>\n",
       "      <td>62</td>\n",
       "      <td>119</td>\n",
       "    </tr>\n",
       "    <tr>\n",
       "      <th>4</th>\n",
       "      <td>1991-04-21</td>\n",
       "      <td>17</td>\n",
       "      <td>33</td>\n",
       "      <td>7</td>\n",
       "    </tr>\n",
       "    <tr>\n",
       "      <th>...</th>\n",
       "      <td>...</td>\n",
       "      <td>...</td>\n",
       "      <td>...</td>\n",
       "      <td>...</td>\n",
       "    </tr>\n",
       "    <tr>\n",
       "      <th>336</th>\n",
       "      <td>1989-05-09</td>\n",
       "      <td>8</td>\n",
       "      <td>33</td>\n",
       "      <td>1</td>\n",
       "    </tr>\n",
       "    <tr>\n",
       "      <th>337</th>\n",
       "      <td>1989-05-09</td>\n",
       "      <td>8</td>\n",
       "      <td>34</td>\n",
       "      <td>7</td>\n",
       "    </tr>\n",
       "    <tr>\n",
       "      <th>338</th>\n",
       "      <td>1989-05-10</td>\n",
       "      <td>8</td>\n",
       "      <td>34</td>\n",
       "      <td>7</td>\n",
       "    </tr>\n",
       "    <tr>\n",
       "      <th>339</th>\n",
       "      <td>1989-05-11</td>\n",
       "      <td>8</td>\n",
       "      <td>34</td>\n",
       "      <td>7</td>\n",
       "    </tr>\n",
       "    <tr>\n",
       "      <th>340</th>\n",
       "      <td>1989-05-12</td>\n",
       "      <td>8</td>\n",
       "      <td>34</td>\n",
       "      <td>7</td>\n",
       "    </tr>\n",
       "  </tbody>\n",
       "</table>\n",
       "<p>27855 rows × 4 columns</p>\n",
       "</div>"
      ],
      "text/plain": [
       "          Date  Time  Code  Value\n",
       "0   1991-04-21     9    58    100\n",
       "1   1991-04-21     9    33      9\n",
       "2   1991-04-21     9    34     13\n",
       "3   1991-04-21    17    62    119\n",
       "4   1991-04-21    17    33      7\n",
       "..         ...   ...   ...    ...\n",
       "336 1989-05-09     8    33      1\n",
       "337 1989-05-09     8    34      7\n",
       "338 1989-05-10     8    34      7\n",
       "339 1989-05-11     8    34      7\n",
       "340 1989-05-12     8    34      7\n",
       "\n",
       "[27855 rows x 4 columns]"
      ]
     },
     "execution_count": 24,
     "metadata": {},
     "output_type": "execute_result"
    }
   ],
   "source": [
    "df"
   ]
  },
  {
   "cell_type": "markdown",
   "id": "artistic-rochester",
   "metadata": {},
   "source": [
    "# Now we will try the decision tree"
   ]
  },
  {
   "cell_type": "code",
   "execution_count": 25,
   "id": "offensive-musician",
   "metadata": {},
   "outputs": [],
   "source": [
    "#Creating decision tree model\n",
    "y = df['Value']\n",
    "feature_columns = ['Time', 'Code']\n",
    "X = df[feature_columns]\n",
    "train_X, test_X, train_Y, test_Y = train_test_split(X,y, test_size = 0.3)\n",
    "tree = DecisionTreeRegressor()"
   ]
  },
  {
   "cell_type": "code",
   "execution_count": 26,
   "id": "primary-verse",
   "metadata": {},
   "outputs": [
    {
     "data": {
      "text/plain": [
       "DecisionTreeRegressor()"
      ]
     },
     "execution_count": 26,
     "metadata": {},
     "output_type": "execute_result"
    }
   ],
   "source": [
    "# Train decision tree model\n",
    "tree.fit(train_X, train_Y)"
   ]
  },
  {
   "cell_type": "code",
   "execution_count": 27,
   "id": "changing-tolerance",
   "metadata": {},
   "outputs": [],
   "source": [
    "# Do predict in the DecisionTree model\n",
    "y_pred = tree.predict(test_X)"
   ]
  },
  {
   "cell_type": "code",
   "execution_count": 28,
   "id": "looking-investigator",
   "metadata": {},
   "outputs": [
    {
     "name": "stdout",
     "output_type": "stream",
     "text": [
      "6.401818834509991\n"
     ]
    }
   ],
   "source": [
    "# Accurancy score for the model. Good for measure how accurate the model is in classification. \n",
    "# PS DON'T USE IT FOR REGRESSION. I used it just for the learning\n",
    "test_y_int = test_Y.astype(int)\n",
    "y_pred_int = y_pred.astype(int)\n",
    "print(accuracy_score(test_y_int,y_pred_int)*100)"
   ]
  },
  {
   "cell_type": "code",
   "execution_count": 29,
   "id": "filled-namibia",
   "metadata": {},
   "outputs": [
    {
     "data": {
      "text/plain": [
       "0.6544112871860874"
      ]
     },
     "execution_count": 29,
     "metadata": {},
     "output_type": "execute_result"
    }
   ],
   "source": [
    "# Calculating the mean accurancy (<=> R2)\n",
    "tree.score(test_X, test_Y)"
   ]
  },
  {
   "cell_type": "code",
   "execution_count": 30,
   "id": "accessory-louisville",
   "metadata": {},
   "outputs": [
    {
     "name": "stdout",
     "output_type": "stream",
     "text": [
      "0.6544112871860874\n"
     ]
    }
   ],
   "source": [
    "# Calculating the R2 value\n",
    "r2 = r2_score(test_Y, y_pred)\n",
    "print(r2)"
   ]
  },
  {
   "cell_type": "code",
   "execution_count": 31,
   "id": "blocked-internship",
   "metadata": {},
   "outputs": [
    {
     "name": "stdout",
     "output_type": "stream",
     "text": [
      "2984.8669991377224\n"
     ]
    }
   ],
   "source": [
    "# Calculating the MSE (Mean square error). Important to detect errors (the larger, the larger errors)\n",
    "mse = mean_squared_error(test_Y, y_pred)\n",
    "print(mse)"
   ]
  },
  {
   "cell_type": "code",
   "execution_count": 32,
   "id": "occupied-greenhouse",
   "metadata": {},
   "outputs": [
    {
     "name": "stdout",
     "output_type": "stream",
     "text": [
      "32.38770339372918\n"
     ]
    }
   ],
   "source": [
    "# Calculating the MAE (Mean absolute error). Good for measure the average of all absolute errors (The larger, the larger error)\n",
    "mae = mean_absolute_error(test_Y, y_pred)\n",
    "print(mae)"
   ]
  },
  {
   "cell_type": "code",
   "execution_count": 33,
   "id": "classified-banner",
   "metadata": {},
   "outputs": [
    {
     "name": "stdout",
     "output_type": "stream",
     "text": [
      "54.63393633207956\n"
     ]
    }
   ],
   "source": [
    "# Calculating the RMSE (Root mean square error). Good for measure how well the data is around the line (The larger, the larger error). \n",
    "rmse = sqrt(mse)\n",
    "print(rmse)"
   ]
  },
  {
   "cell_type": "code",
   "execution_count": 34,
   "id": "theoretical-duncan",
   "metadata": {},
   "outputs": [
    {
     "data": {
      "text/html": [
       "<div>\n",
       "<style scoped>\n",
       "    .dataframe tbody tr th:only-of-type {\n",
       "        vertical-align: middle;\n",
       "    }\n",
       "\n",
       "    .dataframe tbody tr th {\n",
       "        vertical-align: top;\n",
       "    }\n",
       "\n",
       "    .dataframe thead th {\n",
       "        text-align: right;\n",
       "    }\n",
       "</style>\n",
       "<table border=\"1\" class=\"dataframe\">\n",
       "  <thead>\n",
       "    <tr style=\"text-align: right;\">\n",
       "      <th></th>\n",
       "      <th>Date</th>\n",
       "      <th>Time</th>\n",
       "      <th>Code</th>\n",
       "      <th>Value</th>\n",
       "    </tr>\n",
       "  </thead>\n",
       "  <tbody>\n",
       "    <tr>\n",
       "      <th>0</th>\n",
       "      <td>1991-04-21</td>\n",
       "      <td>9</td>\n",
       "      <td>58</td>\n",
       "      <td>100</td>\n",
       "    </tr>\n",
       "    <tr>\n",
       "      <th>1</th>\n",
       "      <td>1991-04-21</td>\n",
       "      <td>9</td>\n",
       "      <td>33</td>\n",
       "      <td>9</td>\n",
       "    </tr>\n",
       "    <tr>\n",
       "      <th>2</th>\n",
       "      <td>1991-04-21</td>\n",
       "      <td>9</td>\n",
       "      <td>34</td>\n",
       "      <td>13</td>\n",
       "    </tr>\n",
       "    <tr>\n",
       "      <th>3</th>\n",
       "      <td>1991-04-21</td>\n",
       "      <td>17</td>\n",
       "      <td>62</td>\n",
       "      <td>119</td>\n",
       "    </tr>\n",
       "    <tr>\n",
       "      <th>4</th>\n",
       "      <td>1991-04-21</td>\n",
       "      <td>17</td>\n",
       "      <td>33</td>\n",
       "      <td>7</td>\n",
       "    </tr>\n",
       "    <tr>\n",
       "      <th>...</th>\n",
       "      <td>...</td>\n",
       "      <td>...</td>\n",
       "      <td>...</td>\n",
       "      <td>...</td>\n",
       "    </tr>\n",
       "    <tr>\n",
       "      <th>336</th>\n",
       "      <td>1989-05-09</td>\n",
       "      <td>8</td>\n",
       "      <td>33</td>\n",
       "      <td>1</td>\n",
       "    </tr>\n",
       "    <tr>\n",
       "      <th>337</th>\n",
       "      <td>1989-05-09</td>\n",
       "      <td>8</td>\n",
       "      <td>34</td>\n",
       "      <td>7</td>\n",
       "    </tr>\n",
       "    <tr>\n",
       "      <th>338</th>\n",
       "      <td>1989-05-10</td>\n",
       "      <td>8</td>\n",
       "      <td>34</td>\n",
       "      <td>7</td>\n",
       "    </tr>\n",
       "    <tr>\n",
       "      <th>339</th>\n",
       "      <td>1989-05-11</td>\n",
       "      <td>8</td>\n",
       "      <td>34</td>\n",
       "      <td>7</td>\n",
       "    </tr>\n",
       "    <tr>\n",
       "      <th>340</th>\n",
       "      <td>1989-05-12</td>\n",
       "      <td>8</td>\n",
       "      <td>34</td>\n",
       "      <td>7</td>\n",
       "    </tr>\n",
       "  </tbody>\n",
       "</table>\n",
       "<p>27855 rows × 4 columns</p>\n",
       "</div>"
      ],
      "text/plain": [
       "          Date  Time  Code  Value\n",
       "0   1991-04-21     9    58    100\n",
       "1   1991-04-21     9    33      9\n",
       "2   1991-04-21     9    34     13\n",
       "3   1991-04-21    17    62    119\n",
       "4   1991-04-21    17    33      7\n",
       "..         ...   ...   ...    ...\n",
       "336 1989-05-09     8    33      1\n",
       "337 1989-05-09     8    34      7\n",
       "338 1989-05-10     8    34      7\n",
       "339 1989-05-11     8    34      7\n",
       "340 1989-05-12     8    34      7\n",
       "\n",
       "[27855 rows x 4 columns]"
      ]
     },
     "execution_count": 34,
     "metadata": {},
     "output_type": "execute_result"
    }
   ],
   "source": [
    "df"
   ]
  },
  {
   "cell_type": "code",
   "execution_count": null,
   "id": "specified-invention",
   "metadata": {},
   "outputs": [],
   "source": []
  }
 ],
 "metadata": {
  "kernelspec": {
   "display_name": "Python 3",
   "language": "python",
   "name": "python3"
  },
  "language_info": {
   "codemirror_mode": {
    "name": "ipython",
    "version": 3
   },
   "file_extension": ".py",
   "mimetype": "text/x-python",
   "name": "python",
   "nbconvert_exporter": "python",
   "pygments_lexer": "ipython3",
   "version": "3.8.0"
  }
 },
 "nbformat": 4,
 "nbformat_minor": 5
}
